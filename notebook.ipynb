{
 "cells": [
  {
   "cell_type": "code",
   "execution_count": 1,
   "id": "d0eb4f16-5a99-460d-a5ba-706b7ef0bbe7",
   "metadata": {
    "executionCancelledAt": null,
    "executionTime": 54,
    "id": "bA5ajAmk7XH6",
    "lastExecutedAt": 1740247381480,
    "lastExecutedByKernel": "a9292cbc-15d1-407b-ab4b-48ca000d0528",
    "lastScheduledRunId": null,
    "lastSuccessfullyExecutedCode": "# All required libraries are imported here for you.\nimport pandas as pd\nfrom sklearn.linear_model import LogisticRegression\nfrom sklearn.model_selection import train_test_split\nfrom sklearn import metrics\n\n# Load the dataset\ncrops = pd.read_csv(\"soil_measures.csv\")\n\n# Write your code here\ncrops.head()",
    "outputsMetadata": {
     "0": {
      "height": 550,
      "tableState": {
       "quickFilterText": ""
      },
      "type": "dataFrame"
     }
    }
   },
   "outputs": [
    {
     "data": {
      "text/html": [
       "<div>\n",
       "<style scoped>\n",
       "    .dataframe tbody tr th:only-of-type {\n",
       "        vertical-align: middle;\n",
       "    }\n",
       "\n",
       "    .dataframe tbody tr th {\n",
       "        vertical-align: top;\n",
       "    }\n",
       "\n",
       "    .dataframe thead th {\n",
       "        text-align: right;\n",
       "    }\n",
       "</style>\n",
       "<table border=\"1\" class=\"dataframe\">\n",
       "  <thead>\n",
       "    <tr style=\"text-align: right;\">\n",
       "      <th></th>\n",
       "      <th>N</th>\n",
       "      <th>P</th>\n",
       "      <th>K</th>\n",
       "      <th>ph</th>\n",
       "      <th>crop</th>\n",
       "    </tr>\n",
       "  </thead>\n",
       "  <tbody>\n",
       "    <tr>\n",
       "      <th>0</th>\n",
       "      <td>90</td>\n",
       "      <td>42</td>\n",
       "      <td>43</td>\n",
       "      <td>6.502985</td>\n",
       "      <td>rice</td>\n",
       "    </tr>\n",
       "    <tr>\n",
       "      <th>1</th>\n",
       "      <td>85</td>\n",
       "      <td>58</td>\n",
       "      <td>41</td>\n",
       "      <td>7.038096</td>\n",
       "      <td>rice</td>\n",
       "    </tr>\n",
       "    <tr>\n",
       "      <th>2</th>\n",
       "      <td>60</td>\n",
       "      <td>55</td>\n",
       "      <td>44</td>\n",
       "      <td>7.840207</td>\n",
       "      <td>rice</td>\n",
       "    </tr>\n",
       "    <tr>\n",
       "      <th>3</th>\n",
       "      <td>74</td>\n",
       "      <td>35</td>\n",
       "      <td>40</td>\n",
       "      <td>6.980401</td>\n",
       "      <td>rice</td>\n",
       "    </tr>\n",
       "    <tr>\n",
       "      <th>4</th>\n",
       "      <td>78</td>\n",
       "      <td>42</td>\n",
       "      <td>42</td>\n",
       "      <td>7.628473</td>\n",
       "      <td>rice</td>\n",
       "    </tr>\n",
       "  </tbody>\n",
       "</table>\n",
       "</div>"
      ],
      "text/plain": [
       "    N   P   K        ph  crop\n",
       "0  90  42  43  6.502985  rice\n",
       "1  85  58  41  7.038096  rice\n",
       "2  60  55  44  7.840207  rice\n",
       "3  74  35  40  6.980401  rice\n",
       "4  78  42  42  7.628473  rice"
      ]
     },
     "execution_count": 1,
     "metadata": {},
     "output_type": "execute_result"
    }
   ],
   "source": [
    "# All required libraries are imported here \n",
    "import pandas as pd\n",
    "from sklearn.linear_model import LogisticRegression\n",
    "from sklearn.model_selection import train_test_split\n",
    "from sklearn import metrics\n",
    "\n",
    "# Load the dataset\n",
    "crops = pd.read_csv(\"soil_measures.csv\")\n",
    "\n",
    "crops.head()"
   ]
  },
  {
   "cell_type": "markdown",
   "id": "05d47a57-109c-4b53-9d93-147e145f666f",
   "metadata": {},
   "source": [
    "Checking for missing values"
   ]
  },
  {
   "cell_type": "code",
   "execution_count": 114,
   "id": "6bfa09db-2a11-4a5a-a9fa-046405577786",
   "metadata": {
    "executionCancelledAt": null,
    "executionTime": 51,
    "lastExecutedAt": 1740247381531,
    "lastExecutedByKernel": "a9292cbc-15d1-407b-ab4b-48ca000d0528",
    "lastScheduledRunId": null,
    "lastSuccessfullyExecutedCode": "crops.isna().sum()",
    "outputsMetadata": {
     "0": {
      "height": 550,
      "tableState": {
       "customFilter": {
        "const": {
         "type": "boolean",
         "valid": true,
         "value": true
        },
        "id": "ee529f8d-8914-4a55-8567-0c16816b2119",
        "nodeType": "const"
       },
       "quickFilterText": ""
      },
      "type": "dataFrame"
     }
    }
   },
   "outputs": [
    {
     "data": {
      "application/com.datacamp.data-table.v2+json": {
       "table": {
        "data": {
         "0": [
          0,
          0,
          0,
          0,
          0
         ],
         "index": [
          "N",
          "P",
          "K",
          "ph",
          "crop"
         ]
        },
        "schema": {
         "fields": [
          {
           "name": "index",
           "type": "string"
          },
          {
           "name": "0",
           "type": "integer"
          }
         ],
         "pandas_version": "1.4.0",
         "primaryKey": [
          "index"
         ]
        }
       },
       "total_rows": 5,
       "truncation_type": null
      },
      "text/plain": [
       "N       0\n",
       "P       0\n",
       "K       0\n",
       "ph      0\n",
       "crop    0\n",
       "dtype: int64"
      ]
     },
     "execution_count": 114,
     "metadata": {
      "application/com.datacamp.data-table.v2+json": {
       "status": "success"
      }
     },
     "output_type": "execute_result"
    }
   ],
   "source": [
    "crops.isna().sum()"
   ]
  },
  {
   "cell_type": "markdown",
   "id": "22b4ee90-5c8e-4ee4-84a2-a477aff3dd7f",
   "metadata": {},
   "source": [
    "Cheacking The Data"
   ]
  },
  {
   "cell_type": "code",
   "execution_count": 115,
   "id": "189b0714-e505-457b-ab8d-ec64fe444017",
   "metadata": {
    "executionCancelledAt": null,
    "executionTime": 60,
    "lastExecutedAt": 1740247381591,
    "lastExecutedByKernel": "a9292cbc-15d1-407b-ab4b-48ca000d0528",
    "lastScheduledRunId": null,
    "lastSuccessfullyExecutedCode": "crops.dtypes"
   },
   "outputs": [
    {
     "data": {
      "text/plain": [
       "N         int64\n",
       "P         int64\n",
       "K         int64\n",
       "ph      float64\n",
       "crop     object\n",
       "dtype: object"
      ]
     },
     "execution_count": 115,
     "metadata": {
      "application/com.datacamp.data-table.v1+json": {
       "error": "Maximum recursion level reached",
       "status": "error"
      },
      "application/com.datacamp.data-table.v2+json": {
       "error": "Maximum recursion level reached",
       "status": "error"
      }
     },
     "output_type": "execute_result"
    }
   ],
   "source": [
    "crops.dtypes"
   ]
  },
  {
   "cell_type": "code",
   "execution_count": 116,
   "id": "83344998-27e4-4ab2-9699-ac0c420e587d",
   "metadata": {
    "executionCancelledAt": null,
    "executionTime": 52,
    "lastExecutedAt": 1740247381643,
    "lastExecutedByKernel": "a9292cbc-15d1-407b-ab4b-48ca000d0528",
    "lastScheduledRunId": null,
    "lastSuccessfullyExecutedCode": "crops[\"crop\"].value_counts()",
    "outputsMetadata": {
     "0": {
      "height": 550,
      "tableState": {
       "customFilter": {
        "const": {
         "type": "boolean",
         "valid": true,
         "value": true
        },
        "id": "ee529f8d-8914-4a55-8567-0c16816b2119",
        "nodeType": "const"
       },
       "quickFilterText": ""
      },
      "type": "dataFrame"
     }
    }
   },
   "outputs": [
    {
     "data": {
      "application/com.datacamp.data-table.v2+json": {
       "table": {
        "data": {
         "crop": [
          100,
          100,
          100,
          100,
          100,
          100,
          100,
          100,
          100,
          100,
          100,
          100,
          100,
          100,
          100,
          100,
          100,
          100,
          100,
          100,
          100,
          100
         ],
         "index": [
          "rice",
          "maize",
          "jute",
          "cotton",
          "coconut",
          "papaya",
          "orange",
          "apple",
          "muskmelon",
          "watermelon",
          "grapes",
          "mango",
          "banana",
          "pomegranate",
          "lentil",
          "blackgram",
          "mungbean",
          "mothbeans",
          "pigeonpeas",
          "kidneybeans",
          "chickpea",
          "coffee"
         ]
        },
        "schema": {
         "fields": [
          {
           "name": "index",
           "type": "string"
          },
          {
           "name": "crop",
           "type": "integer"
          }
         ],
         "pandas_version": "1.4.0",
         "primaryKey": [
          "index"
         ]
        }
       },
       "total_rows": 22,
       "truncation_type": null
      },
      "text/plain": [
       "rice           100\n",
       "maize          100\n",
       "jute           100\n",
       "cotton         100\n",
       "coconut        100\n",
       "papaya         100\n",
       "orange         100\n",
       "apple          100\n",
       "muskmelon      100\n",
       "watermelon     100\n",
       "grapes         100\n",
       "mango          100\n",
       "banana         100\n",
       "pomegranate    100\n",
       "lentil         100\n",
       "blackgram      100\n",
       "mungbean       100\n",
       "mothbeans      100\n",
       "pigeonpeas     100\n",
       "kidneybeans    100\n",
       "chickpea       100\n",
       "coffee         100\n",
       "Name: crop, dtype: int64"
      ]
     },
     "execution_count": 116,
     "metadata": {
      "application/com.datacamp.data-table.v2+json": {
       "status": "success"
      }
     },
     "output_type": "execute_result"
    }
   ],
   "source": [
    "crops[\"crop\"].value_counts()"
   ]
  },
  {
   "cell_type": "markdown",
   "id": "c5f47f02-0a60-4014-8e9b-0c68ca631672",
   "metadata": {},
   "source": [
    "Creating Features and target variables then Use train_test_split to split the data into 80-20."
   ]
  },
  {
   "cell_type": "code",
   "execution_count": 117,
   "id": "056beae8-f8b6-4f5e-8735-f6c6e282e4c2",
   "metadata": {
    "executionCancelledAt": null,
    "executionTime": 48,
    "lastExecutedAt": 1740247381691,
    "lastExecutedByKernel": "a9292cbc-15d1-407b-ab4b-48ca000d0528",
    "lastScheduledRunId": null,
    "lastSuccessfullyExecutedCode": "X=crops.drop(\"crop\",axis=1).values\ny = crops[\"crop\"].astype('category').cat.codes\nX_train, X_test, y_train, y_test=train_test_split(X , y , test_size= 0.2, random_state=12, stratify=y)",
    "outputsMetadata": {
     "0": {
      "height": 500,
      "tableState": {
       "quickFilterText": ""
      },
      "type": "dataFrame"
     }
    }
   },
   "outputs": [],
   "source": [
    "X=crops.drop(\"crop\",axis=1).values\n",
    "y = crops[\"crop\"].astype('category').cat.codes\n",
    "X_train, X_test, y_train, y_test=train_test_split(X , y , test_size= 0.2, random_state=12, stratify=y)"
   ]
  },
  {
   "cell_type": "markdown",
   "id": "b6a66d36-cd23-476d-aec7-c2fcc458ed82",
   "metadata": {},
   "source": [
    "Building the model and predicting the best crop for each feature individually"
   ]
  },
  {
   "cell_type": "code",
   "execution_count": 118,
   "id": "d5a380d6-fea1-480e-a860-e8afb8752801",
   "metadata": {
    "executionCancelledAt": null,
    "executionTime": 5384,
    "lastExecutedAt": 1740247387075,
    "lastExecutedByKernel": "a9292cbc-15d1-407b-ab4b-48ca000d0528",
    "lastScheduledRunId": null,
    "lastSuccessfullyExecutedCode": "feature_performance = {}\n\nfor i, feature in enumerate([\"N\", \"P\", \"K\", \"ph\"]):  \n    log_reg = LogisticRegression(multi_class=\"multinomial\", solver=\"lbfgs\", max_iter=200)\n    \n    X_train_feature = X_train[:, i].reshape(-1, 1)  \n    X_test_feature = X_test[:, i].reshape(-1, 1)  \n    \n    log_reg.fit(X_train_feature, y_train)\n    y_pred = log_reg.predict(X_test_feature)\n    \n    accuracy = metrics.accuracy_score(y_test, y_pred)\n    feature_performance[feature] = accuracy"
   },
   "outputs": [],
   "source": [
    "feature_performance = {}\n",
    "\n",
    "for i, feature in enumerate([\"N\", \"P\", \"K\", \"ph\"]):  \n",
    "    log_reg = LogisticRegression(multi_class=\"multinomial\", solver=\"lbfgs\", max_iter=200)\n",
    "    \n",
    "    X_train_feature = X_train[:, i].reshape(-1, 1)  \n",
    "    X_test_feature = X_test[:, i].reshape(-1, 1)  \n",
    "    \n",
    "    log_reg.fit(X_train_feature, y_train)\n",
    "    y_pred = log_reg.predict(X_test_feature)\n",
    "    \n",
    "    accuracy = metrics.accuracy_score(y_test, y_pred)\n",
    "    feature_performance[feature] = accuracy"
   ]
  },
  {
   "cell_type": "markdown",
   "id": "3403f0e9-597a-4688-adb9-632efd090281",
   "metadata": {},
   "source": [
    "Store the feature name as a key with the best model's evaluation score."
   ]
  },
  {
   "cell_type": "code",
   "execution_count": 119,
   "id": "7f7815bd-acfa-412c-9438-19f4e14d2a92",
   "metadata": {
    "executionCancelledAt": null,
    "executionTime": 48,
    "lastExecutedAt": 1740247387125,
    "lastExecutedByKernel": "a9292cbc-15d1-407b-ab4b-48ca000d0528",
    "lastScheduledRunId": null,
    "lastSuccessfullyExecutedCode": "best_feature, best_accuracy = max(feature_performance.items(), key=lambda x: x[1])\n\n# Store only the best feature in a dictionary\nbest_predictive_feature = {best_feature: best_accuracy}\n\nprint(best_predictive_feature)",
    "outputsMetadata": {
     "0": {
      "height": 38,
      "type": "stream"
     }
    }
   },
   "outputs": [
    {
     "name": "stdout",
     "output_type": "stream",
     "text": [
      "{'K': 0.3181818181818182}\n"
     ]
    }
   ],
   "source": [
    "best_feature, best_accuracy = max(feature_performance.items(), key=lambda x: x[1])\n",
    "\n",
    "# Store only the best feature in a dictionary\n",
    "best_predictive_feature = {best_feature: best_accuracy}\n",
    "\n",
    "print(best_predictive_feature)"
   ]
  }
 ],
 "metadata": {
  "colab": {
   "name": "Welcome to DataCamp Workspaces.ipynb",
   "provenance": []
  },
  "kernelspec": {
   "display_name": "Python 3",
   "language": "python",
   "name": "python3"
  },
  "language_info": {
   "codemirror_mode": {
    "name": "ipython",
    "version": 3
   },
   "file_extension": ".py",
   "mimetype": "text/x-python",
   "name": "python",
   "nbconvert_exporter": "python",
   "pygments_lexer": "ipython3",
   "version": "3.13.1"
  }
 },
 "nbformat": 4,
 "nbformat_minor": 5
}
